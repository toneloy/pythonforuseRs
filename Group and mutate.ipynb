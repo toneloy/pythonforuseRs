{
 "cells": [
  {
   "cell_type": "markdown",
   "metadata": {},
   "source": [
    "## Group and mutate"
   ]
  },
  {
   "cell_type": "markdown",
   "metadata": {},
   "source": [
    "**Problem:** we want to make a calculation that depends on an aggregate by groups. For example, we want to standardize a variable using the mean and standard deviation by groups of another variable.\n",
    "\n",
    " * **Solution in R:** we use `dplyr::group_by(...)` followed by `dplyr::mutate(...)`. \n",
    "\n",
    " * **Solution in python:** we use `pandas.DataFrame.groupby(..., group_keys=False).apply(...)`"
   ]
  },
  {
   "cell_type": "code",
   "execution_count": 1,
   "metadata": {},
   "outputs": [],
   "source": [
    "# Activate the interface between R and python and also load the rpy2 extension to use R in the notebook cells\n",
    "from rpy2.robjects import r, pandas2ri\n",
    "pandas2ri.activate()\n",
    "%load_ext rpy2.ipython"
   ]
  },
  {
   "cell_type": "markdown",
   "metadata": {},
   "source": [
    "#### In R"
   ]
  },
  {
   "cell_type": "code",
   "execution_count": 2,
   "metadata": {},
   "outputs": [
    {
     "data": {
      "text/plain": [
       "\u001b[90m# A tibble: 6 x 6\u001b[39m\n",
       "\u001b[90m# Groups:   Species [1]\u001b[39m\n",
       "  Sepal.Length Sepal.Width Petal.Length Petal.Width Species Sepal.Length_z_sco…\n",
       "         \u001b[3m\u001b[90m<dbl>\u001b[39m\u001b[23m       \u001b[3m\u001b[90m<dbl>\u001b[39m\u001b[23m        \u001b[3m\u001b[90m<dbl>\u001b[39m\u001b[23m       \u001b[3m\u001b[90m<dbl>\u001b[39m\u001b[23m \u001b[3m\u001b[90m<fct>\u001b[39m\u001b[23m                 \u001b[3m\u001b[90m<dbl>\u001b[39m\u001b[23m\n",
       "\u001b[90m1\u001b[39m         5.10        3.50         1.40       0.200 setosa               0.267 \n",
       "\u001b[90m2\u001b[39m         4.90        3.00         1.40       0.200 setosa              -\u001b[31m0\u001b[39m\u001b[31m.\u001b[39m\u001b[31m301\u001b[39m \n",
       "\u001b[90m3\u001b[39m         4.70        3.20         1.30       0.200 setosa              -\u001b[31m0\u001b[39m\u001b[31m.\u001b[39m\u001b[31m868\u001b[39m \n",
       "\u001b[90m4\u001b[39m         4.60        3.10         1.50       0.200 setosa              -\u001b[31m1\u001b[39m\u001b[31m.\u001b[39m\u001b[31m15\u001b[39m  \n",
       "\u001b[90m5\u001b[39m         5.00        3.60         1.40       0.200 setosa              -\u001b[31m0\u001b[39m\u001b[31m.\u001b[39m\u001b[31m0\u001b[39m\u001b[31m17\u001b[4m0\u001b[24m\u001b[39m\n",
       "\u001b[90m6\u001b[39m         5.40        3.90         1.70       0.400 setosa               1.12  \n"
      ]
     },
     "metadata": {},
     "output_type": "display_data"
    }
   ],
   "source": [
    "%%R\n",
    "suppressWarnings(suppressMessages(library(dplyr)))\n",
    "\n",
    "iris_z_score <- iris %>% \n",
    "    group_by(Species) %>%\n",
    "    mutate(Sepal.Length_z_score = (Sepal.Length - mean(Sepal.Length)) / sd(Sepal.Length))\n",
    "\n",
    "head(iris_z_score)"
   ]
  },
  {
   "cell_type": "markdown",
   "metadata": {},
   "source": [
    "#### In python"
   ]
  },
  {
   "cell_type": "code",
   "execution_count": 3,
   "metadata": {},
   "outputs": [
    {
     "data": {
      "text/html": [
       "<div>\n",
       "<style scoped>\n",
       "    .dataframe tbody tr th:only-of-type {\n",
       "        vertical-align: middle;\n",
       "    }\n",
       "\n",
       "    .dataframe tbody tr th {\n",
       "        vertical-align: top;\n",
       "    }\n",
       "\n",
       "    .dataframe thead th {\n",
       "        text-align: right;\n",
       "    }\n",
       "</style>\n",
       "<table border=\"1\" class=\"dataframe\">\n",
       "  <thead>\n",
       "    <tr style=\"text-align: right;\">\n",
       "      <th></th>\n",
       "      <th>Sepal.Length</th>\n",
       "      <th>Sepal.Width</th>\n",
       "      <th>Petal.Length</th>\n",
       "      <th>Petal.Width</th>\n",
       "      <th>Species</th>\n",
       "      <th>Sepal.Length_z_score</th>\n",
       "    </tr>\n",
       "  </thead>\n",
       "  <tbody>\n",
       "    <tr>\n",
       "      <th>0</th>\n",
       "      <td>5.1</td>\n",
       "      <td>3.5</td>\n",
       "      <td>1.4</td>\n",
       "      <td>0.2</td>\n",
       "      <td>setosa</td>\n",
       "      <td>0.266674</td>\n",
       "    </tr>\n",
       "    <tr>\n",
       "      <th>1</th>\n",
       "      <td>4.9</td>\n",
       "      <td>3.0</td>\n",
       "      <td>1.4</td>\n",
       "      <td>0.2</td>\n",
       "      <td>setosa</td>\n",
       "      <td>-0.300718</td>\n",
       "    </tr>\n",
       "    <tr>\n",
       "      <th>2</th>\n",
       "      <td>4.7</td>\n",
       "      <td>3.2</td>\n",
       "      <td>1.3</td>\n",
       "      <td>0.2</td>\n",
       "      <td>setosa</td>\n",
       "      <td>-0.868111</td>\n",
       "    </tr>\n",
       "    <tr>\n",
       "      <th>3</th>\n",
       "      <td>4.6</td>\n",
       "      <td>3.1</td>\n",
       "      <td>1.5</td>\n",
       "      <td>0.2</td>\n",
       "      <td>setosa</td>\n",
       "      <td>-1.151807</td>\n",
       "    </tr>\n",
       "    <tr>\n",
       "      <th>4</th>\n",
       "      <td>5.0</td>\n",
       "      <td>3.6</td>\n",
       "      <td>1.4</td>\n",
       "      <td>0.2</td>\n",
       "      <td>setosa</td>\n",
       "      <td>-0.017022</td>\n",
       "    </tr>\n",
       "  </tbody>\n",
       "</table>\n",
       "</div>"
      ],
      "text/plain": [
       "   Sepal.Length  Sepal.Width  Petal.Length  Petal.Width Species  \\\n",
       "0           5.1          3.5           1.4          0.2  setosa   \n",
       "1           4.9          3.0           1.4          0.2  setosa   \n",
       "2           4.7          3.2           1.3          0.2  setosa   \n",
       "3           4.6          3.1           1.5          0.2  setosa   \n",
       "4           5.0          3.6           1.4          0.2  setosa   \n",
       "\n",
       "   Sepal.Length_z_score  \n",
       "0              0.266674  \n",
       "1             -0.300718  \n",
       "2             -0.868111  \n",
       "3             -1.151807  \n",
       "4             -0.017022  "
      ]
     },
     "execution_count": 3,
     "metadata": {},
     "output_type": "execute_result"
    }
   ],
   "source": [
    "iris = r['iris']\n",
    "\n",
    "def z_score(df, var):\n",
    "    return (df[var] - df[var].mean()) / df[var].std()\n",
    "\n",
    "iris_z_score = iris.copy()\n",
    "iris_z_score['Sepal.Length_z_score'] = (iris_z_score\n",
    "                                        .groupby('Species', group_keys=False)\n",
    "                                        .apply(lambda g: z_score(g, 'Sepal.Length')))\n",
    "iris_z_score.head()"
   ]
  },
  {
   "cell_type": "markdown",
   "metadata": {},
   "source": [
    "### Explanation\n",
    "The key concept here is the `group_keys=True` parameter. This tells pandas that we don't want to use grouping variables as indexes."
   ]
  }
 ],
 "metadata": {
  "kernelspec": {
   "display_name": "Python 3",
   "language": "python",
   "name": "python3"
  },
  "language_info": {
   "codemirror_mode": {
    "name": "ipython",
    "version": 3
   },
   "file_extension": ".py",
   "mimetype": "text/x-python",
   "name": "python",
   "nbconvert_exporter": "python",
   "pygments_lexer": "ipython3",
   "version": "3.5.2"
  }
 },
 "nbformat": 4,
 "nbformat_minor": 2
}
